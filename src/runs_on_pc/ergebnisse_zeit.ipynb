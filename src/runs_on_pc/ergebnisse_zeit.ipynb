{
 "cells": [
  {
   "cell_type": "code",
   "execution_count": 1,
   "metadata": {},
   "outputs": [],
   "source": [
    "import pandas as pd\n",
    "import numpy as np\n",
    "import matplotlib.pyplot as plt"
   ]
  },
  {
   "cell_type": "code",
   "execution_count": 4,
   "metadata": {},
   "outputs": [
    {
     "name": "stdout",
     "output_type": "stream",
     "text": [
      "frame_diff_motors:  7324\n",
      "frame_diff_integral:  6183\n",
      "frame_diff_madgwick:  7534\n",
      "frame_diff_pid:  9714\n"
     ]
    }
   ],
   "source": [
    "# start_frame an der ersten kurve\n",
    "# end_frame ist start_frame der 37. kurve\n",
    "\n",
    "start_frame_motors = 733\n",
    "end_frame_motors = 8057\n",
    "frame_diff_motors = end_frame_motors - start_frame_motors\n",
    "print(\"frame_diff_motors: \", frame_diff_motors)\n",
    "\n",
    "start_frame_integral = 1985\n",
    "end_frame_integral = 8168\n",
    "frame_diff_integral = end_frame_integral - start_frame_integral\n",
    "print(\"frame_diff_integral: \", frame_diff_integral)\n",
    "\n",
    "start_frame_madgwick = 850\n",
    "end_frame_madgwick = 8384\n",
    "frame_diff_madgwick = end_frame_madgwick - start_frame_madgwick\n",
    "print(\"frame_diff_madgwick: \", frame_diff_madgwick)\n",
    "\n",
    "start_frame_pid = 364\n",
    "end_frame_pid = 10078\n",
    "frame_diff_pid = end_frame_pid - start_frame_pid\n",
    "print(\"frame_diff_pid: \", frame_diff_pid)"
   ]
  },
  {
   "cell_type": "code",
   "execution_count": 5,
   "metadata": {},
   "outputs": [
    {
     "name": "stdout",
     "output_type": "stream",
     "text": [
      "time_diff_motors_sec:  244.13333333333333\n",
      "time_diff_integral_sec:  206.1\n",
      "time_diff_madgwick_sec:  251.13333333333333\n",
      "time_diff_pid_sec:  323.8\n"
     ]
    }
   ],
   "source": [
    "# frames in sekunden umrechnen. 30 frames pro sekunde\n",
    "time_diff_motors_sec = frame_diff_motors / 30\n",
    "time_diff_integral_sec = frame_diff_integral / 30\n",
    "time_diff_madgwick_sec = frame_diff_madgwick / 30\n",
    "time_diff_pid_sec = frame_diff_pid / 30\n",
    "\n",
    "print(\"time_diff_motors_sec: \", time_diff_motors_sec)\n",
    "print(\"time_diff_integral_sec: \", time_diff_integral_sec)\n",
    "print(\"time_diff_madgwick_sec: \", time_diff_madgwick_sec)\n",
    "print(\"time_diff_pid_sec: \", time_diff_pid_sec)\n"
   ]
  }
 ],
 "metadata": {
  "kernelspec": {
   "display_name": ".venv",
   "language": "python",
   "name": "python3"
  },
  "language_info": {
   "codemirror_mode": {
    "name": "ipython",
    "version": 3
   },
   "file_extension": ".py",
   "mimetype": "text/x-python",
   "name": "python",
   "nbconvert_exporter": "python",
   "pygments_lexer": "ipython3",
   "version": "3.12.9"
  }
 },
 "nbformat": 4,
 "nbformat_minor": 2
}
